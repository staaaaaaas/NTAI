{
 "cells": [
  {
   "cell_type": "code",
   "execution_count": 1,
   "metadata": {
    "id": "w7wofeCqF42a"
   },
   "outputs": [],
   "source": [
    "import torch\n",
    "import torch.nn as nn\n",
    "import torch.nn.functional as F\n",
    "import matplotlib.pyplot as plt\n",
    "import numpy as np\n",
    "from sklearn.metrics import mean_absolute_error\n",
    "\n",
    "plt.style.use('default')"
   ]
  },
  {
   "cell_type": "markdown",
   "metadata": {
    "id": "HpmRjS6e6EOt"
   },
   "source": [
    "# Персептрон Розенблатта\n",
    "\n",
    "![](https://miro.medium.com/max/875/1*ofVdu6L3BDbHyt1Ro8w07Q.png)"
   ]
  },
  {
   "cell_type": "code",
   "execution_count": 2,
   "metadata": {
    "id": "dBr3oQkR6CmM"
   },
   "outputs": [],
   "source": [
    "class Perceptron(nn.Module):\n",
    "\n",
    "    def __init__(self, input_shape, otput_shape):\n",
    "        super().__init__()\n",
    "        self.fc = nn.Linear(input_shape, otput_shape)\n",
    "\n",
    "    def forward(self, x):\n",
    "        x = self.fc(x)\n",
    "        return torch.heaviside(x, torch.tensor([0.5]))\n",
    "\n",
    "    def fit(self, X_train, y_train, num_epochs):\n",
    "        for i in range(num_epochs):\n",
    "            for X, y in zip(X_train,y_train):\n",
    "                output = self.forward(X)\n",
    "                error = y - output\n",
    "                with torch.no_grad():\n",
    "                    for w, e in zip(self.fc.weight, error):\n",
    "                        w += e * X\n",
    "                    self.fc.bias += error"
   ]
  },
  {
   "cell_type": "markdown",
   "metadata": {
    "id": "7-vLaJYX67H7"
   },
   "source": [
    "# Два класса, линейно разделимая выборка"
   ]
  },
  {
   "cell_type": "markdown",
   "metadata": {},
   "source": [
    "## Decision bounds"
   ]
  },
  {
   "cell_type": "code",
   "execution_count": 3,
   "metadata": {},
   "outputs": [],
   "source": [
    "def plot_decision_bounds(X, Y, model):\n",
    "    X_np = X.detach().numpy()\n",
    "    Y_np = Y.detach().numpy()\n",
    "\n",
    "    x_min, x_max = X_np[:, 0].min() - 1, X_np[:, 0].max() + 1\n",
    "    y_min, y_max = X_np[:, 1].min() - 1, X_np[:, 1].max() + 1\n",
    "    xx, yy = np.meshgrid(np.arange(x_min, x_max, 0.01),\n",
    "                     np.arange(y_min, y_max, 0.01))\n",
    "\n",
    "    Z  = model.forward(torch.tensor(np.c_[xx.ravel(), yy.ravel()], dtype=torch.float32)).detach().numpy()\n",
    "\n",
    "    Z = Z.reshape(xx.shape)\n",
    "    colors1 = ['pink', 'skyblue', 'red']\n",
    "    plt.contourf(xx, yy, Z, colors = colors1, extend='both')\n",
    "    plt.axis('off')\n",
    "\n",
    "    plt.scatter(X_np[:, 0], X_np[:, 1], c=Y_np[:,0], s = 50)"
   ]
  },
  {
   "cell_type": "markdown",
   "metadata": {},
   "source": [
    "## Train model"
   ]
  },
  {
   "cell_type": "code",
   "execution_count": 4,
   "metadata": {
    "colab": {
     "base_uri": "https://localhost:8080/"
    },
    "id": "UJI5shC6M9tv",
    "outputId": "56002562-7214-4380-9e17-f19b26ab37f8"
   },
   "outputs": [
    {
     "data": {
      "text/plain": [
       "(tensor([[ 0.3000,  2.0000],\n",
       "         [ 4.9000, -2.2000],\n",
       "         [-0.9000, -0.4000],\n",
       "         [ 2.6000,  3.1000],\n",
       "         [-4.0000, -3.3000],\n",
       "         [-1.5000, -4.5000]]),\n",
       " tensor([[0.],\n",
       "         [0.],\n",
       "         [1.],\n",
       "         [0.],\n",
       "         [1.],\n",
       "         [1.]]))"
      ]
     },
     "execution_count": 4,
     "metadata": {},
     "output_type": "execute_result"
    }
   ],
   "source": [
    "X_train = torch.tensor([\n",
    "            [0.3, 2],\n",
    "            [4.9, -2.2],\n",
    "            [-0.9, -0.4],\n",
    "            [2.6, 3.1],\n",
    "            [-4, -3.3],\n",
    "            [-1.5, -4.5]\n",
    "            ])\n",
    "\n",
    "y_train = torch.tensor([\n",
    "            [0],\n",
    "            [0],\n",
    "            [1],\n",
    "            [0],\n",
    "            [1],\n",
    "            [1]\n",
    "            ], dtype = torch.float32)\n",
    "\n",
    "X_train, y_train"
   ]
  },
  {
   "cell_type": "code",
   "execution_count": 5,
   "metadata": {
    "colab": {
     "base_uri": "https://localhost:8080/",
     "height": 599
    },
    "id": "G61L6PI5Qo5n",
    "outputId": "e2e344ff-c2cc-4d1f-8369-d58c6c11bb37"
   },
   "outputs": [
    {
     "data": {
      "image/png": "[encoded data removed]",
      "text/plain": [
       "<Figure size 640x480 with 1 Axes>"
      ]
     },
     "metadata": {},
     "output_type": "display_data"
    }
   ],
   "source": [
    "plt.scatter(x = X_train[:,0], y = X_train[:,1], c= y_train[:,0], s = 50)\n",
    "plt.xlim(-5,5)\n",
    "plt.ylim(-5,5)\n",
    "plt.grid()"
   ]
  },
  {
   "cell_type": "code",
   "execution_count": 6,
   "metadata": {
    "colab": {
     "base_uri": "https://localhost:8080/"
    },
    "id": "dMRp61i4HHqn",
    "outputId": "3f722c08-a9e0-4057-8911-02ca27893bc3"
   },
   "outputs": [
    {
     "name": "stdout",
     "output_type": "stream",
     "text": [
      "Perceptron(\n",
      "  (fc): Linear(in_features=2, out_features=1, bias=True)\n",
      ")\n"
     ]
    }
   ],
   "source": [
    "model = Perceptron(X_train.shape[1],y_train.shape[1])\n",
    "print(model)"
   ]
  },
  {
   "cell_type": "code",
   "execution_count": 7,
   "metadata": {
    "colab": {
     "base_uri": "https://localhost:8080/"
    },
    "id": "L9iCam6FXqeZ",
    "outputId": "a0fcf201-e2c0-477f-8635-14235d83a36e"
   },
   "outputs": [
    {
     "name": "stdout",
     "output_type": "stream",
     "text": [
      "Initial weights: tensor([ 0.4092, -0.3584])\n",
      "Initial bias: tensor([0.2472])\n"
     ]
    }
   ],
   "source": [
    "w = model.fc.weight.data[0]\n",
    "b = model.fc.bias.data\n",
    "print(f'Initial weights: {w}')\n",
    "print(f'Initial bias: {b}')"
   ]
  },
  {
   "cell_type": "code",
   "execution_count": 8,
   "metadata": {
    "colab": {
     "base_uri": "https://localhost:8080/",
     "height": 406
    },
    "id": "9Npbcq_JVmfn",
    "outputId": "76c85044-c392-43fb-a49e-384497e86cc6"
   },
   "outputs": [
    {
     "data": {
      "image/png": "[encoded data removed]",
      "text/plain": [
       "<Figure size 640x480 with 1 Axes>"
      ]
     },
     "metadata": {},
     "output_type": "display_data"
    }
   ],
   "source": [
    "plot_decision_bounds(X_train, y_train, model)"
   ]
  },
  {
   "cell_type": "code",
   "execution_count": 9,
   "metadata": {
    "id": "wviEJK7fYysv"
   },
   "outputs": [],
   "source": [
    "model.fit(X_train, y_train, 5)"
   ]
  },
  {
   "cell_type": "code",
   "execution_count": 10,
   "metadata": {
    "colab": {
     "base_uri": "https://localhost:8080/"
    },
    "id": "Zq9yn3x_drHz",
    "outputId": "95cf648e-d18b-439a-e89e-a1d2527793c2"
   },
   "outputs": [
    {
     "name": "stdout",
     "output_type": "stream",
     "text": [
      "Final weights: tensor([-5.9908, -2.6584])\n",
      "Final bias: tensor([0.2472])\n"
     ]
    }
   ],
   "source": [
    "w = model.fc.weight.data[0]\n",
    "b = model.fc.bias.data\n",
    "print(f'Final weights: {w}')\n",
    "print(f'Final bias: {b}')"
   ]
  },
  {
   "cell_type": "code",
   "execution_count": 11,
   "metadata": {
    "colab": {
     "base_uri": "https://localhost:8080/",
     "height": 406
    },
    "id": "Ddgz1hLqg22l",
    "outputId": "ab7c57e6-3a1a-4694-d98d-d32df365c4ce"
   },
   "outputs": [
    {
     "data": {
      "image/png": "[encoded data removed]",
      "text/plain": [
       "<Figure size 640x480 with 1 Axes>"
      ]
     },
     "metadata": {},
     "output_type": "display_data"
    }
   ],
   "source": [
    "plot_decision_bounds(X_train, y_train, model)"
   ]
  },
  {
   "cell_type": "code",
   "execution_count": 13,
   "metadata": {},
   "outputs": [
    {
     "name": "stdout",
     "output_type": "stream",
     "text": [
      "MAE:  0.0\n"
     ]
    }
   ],
   "source": [
    "y_pred = model.forward(X_train)\n",
    "print('MAE: ', mean_absolute_error(y_train.detach().numpy(), y_pred.detach().numpy()))"
   ]
  },
  {
   "cell_type": "markdown",
   "metadata": {},
   "source": [
    "## Test model"
   ]
  },
  {
   "cell_type": "code",
   "execution_count": 14,
   "metadata": {
    "colab": {
     "base_uri": "https://localhost:8080/"
    },
    "id": "9Vi3kfH3uLdo",
    "outputId": "43b34cc4-92f3-45bf-a645-a0b542174c12"
   },
   "outputs": [
    {
     "data": {
      "text/plain": [
       "tensor([[ 2.3061, -1.1441],\n",
       "        [-3.1864,  0.5409],\n",
       "        [ 2.3079,  2.1424],\n",
       "        [ 1.0470, -3.0850],\n",
       "        [ 0.2993, -2.5488],\n",
       "        [ 1.9326,  3.1133],\n",
       "        [-2.0922, -1.6926],\n",
       "        [ 2.0815,  1.5844],\n",
       "        [-3.0788, -0.6004],\n",
       "        [-2.6072, -2.5183]])"
      ]
     },
     "execution_count": 14,
     "metadata": {},
     "output_type": "execute_result"
    }
   ],
   "source": [
    "X_test = torch.FloatTensor(10, 2).uniform_(-5, 5)\n",
    "X_test"
   ]
  },
  {
   "cell_type": "code",
   "execution_count": 15,
   "metadata": {
    "colab": {
     "base_uri": "https://localhost:8080/"
    },
    "id": "esuDH5hp8Sof",
    "outputId": "7fcae13d-7e56-4c87-e63a-e33dd8648988"
   },
   "outputs": [
    {
     "data": {
      "text/plain": [
       "tensor([[0.],\n",
       "        [1.],\n",
       "        [0.],\n",
       "        [1.],\n",
       "        [1.],\n",
       "        [0.],\n",
       "        [1.],\n",
       "        [0.],\n",
       "        [1.],\n",
       "        [1.]], grad_fn=<NotImplemented>)"
      ]
     },
     "execution_count": 15,
     "metadata": {},
     "output_type": "execute_result"
    }
   ],
   "source": [
    "y_pred = model.forward(X_test)\n",
    "y_pred"
   ]
  },
  {
   "cell_type": "code",
   "execution_count": 16,
   "metadata": {
    "colab": {
     "base_uri": "https://localhost:8080/",
     "height": 406
    },
    "id": "2NXzD4K9sYPa",
    "outputId": "d55e971f-c43c-4699-a629-02b0f49c54c3"
   },
   "outputs": [
    {
     "data": {
      "image/png": "[encoded data removed]",
      "text/plain": [
       "<Figure size 640x480 with 1 Axes>"
      ]
     },
     "metadata": {},
     "output_type": "display_data"
    }
   ],
   "source": [
    "plot_decision_bounds(torch.cat((X_train, X_test), 0), torch.cat((y_train, y_pred), 0), model)"
   ]
  },
  {
   "cell_type": "markdown",
   "metadata": {
    "id": "uFqI0Qpn8DSi"
   },
   "source": [
    "# Два класса, линейно неразделимая выборка"
   ]
  },
  {
   "cell_type": "markdown",
   "metadata": {},
   "source": [
    "## Train model"
   ]
  },
  {
   "cell_type": "code",
   "execution_count": 17,
   "metadata": {
    "colab": {
     "base_uri": "https://localhost:8080/"
    },
    "id": "-Fmtr01U8B9F",
    "outputId": "c24b180a-dad4-4f28-efbf-f49cc5c58e5a"
   },
   "outputs": [
    {
     "data": {
      "text/plain": [
       "(tensor([[ 0.3000,  2.0000],\n",
       "         [ 4.9000, -2.2000],\n",
       "         [-0.9000, -0.4000],\n",
       "         [-2.6000,  3.1000],\n",
       "         [-4.0000, -3.3000],\n",
       "         [-1.5000, -4.5000]]),\n",
       " tensor([[0],\n",
       "         [0],\n",
       "         [1],\n",
       "         [0],\n",
       "         [0],\n",
       "         [1]]))"
      ]
     },
     "execution_count": 17,
     "metadata": {},
     "output_type": "execute_result"
    }
   ],
   "source": [
    "X_train = torch.tensor([[0.3, 2],\n",
    "          [4.9, -2.2],\n",
    "          [-0.9, -0.4],\n",
    "          [-2.6, 3.1],\n",
    "          [-4, -3.3],\n",
    "          [-1.5, -4.5]])\n",
    "\n",
    "y_train = torch.tensor([[0],\n",
    "          [0],\n",
    "          [1],\n",
    "          [0],\n",
    "          [0],\n",
    "          [1]])\n",
    "\n",
    "X_train, y_train"
   ]
  },
  {
   "cell_type": "code",
   "execution_count": 18,
   "metadata": {
    "colab": {
     "base_uri": "https://localhost:8080/",
     "height": 599
    },
    "id": "pSp6wWDZ-6vg",
    "outputId": "ee25a171-6bb0-41af-8c5a-3ab28c372d20"
   },
   "outputs": [
    {
     "data": {
      "image/png": "[encoded data removed]",
      "text/plain": [
       "<Figure size 640x480 with 1 Axes>"
      ]
     },
     "metadata": {},
     "output_type": "display_data"
    }
   ],
   "source": [
    "plt.scatter(x = X_train[:,0], y = X_train[:,1], c= y_train[:,0], s = 50)\n",
    "plt.xlim(-5,5)\n",
    "plt.ylim(-5,5)\n",
    "plt.grid()"
   ]
  },
  {
   "cell_type": "code",
   "execution_count": 29,
   "metadata": {
    "colab": {
     "base_uri": "https://localhost:8080/"
    },
    "id": "brJubuwv-9sM",
    "outputId": "d622bddd-6949-49b0-8c13-9a614d4a850e"
   },
   "outputs": [
    {
     "name": "stdout",
     "output_type": "stream",
     "text": [
      "Perceptron(\n",
      "  (fc): Linear(in_features=2, out_features=1, bias=True)\n",
      ")\n"
     ]
    }
   ],
   "source": [
    "model = Perceptron(X_train.shape[1],y_train.shape[1])\n",
    "print(model)"
   ]
  },
  {
   "cell_type": "code",
   "execution_count": null,
   "metadata": {
    "colab": {
     "base_uri": "https://localhost:8080/"
    },
    "id": "Hl0OUNf1_A5V",
    "outputId": "4c0f1447-e3aa-4ab7-fc8c-34c6f0cdcf80"
   },
   "outputs": [],
   "source": [
    "w = model.fc.weight.data[0]\n",
    "b = model.fc.bias.data\n",
    "print(f'Initial weights: {w}')\n",
    "print(f'Initial bias: {b}')"
   ]
  },
  {
   "cell_type": "code",
   "execution_count": 21,
   "metadata": {
    "colab": {
     "base_uri": "https://localhost:8080/",
     "height": 406
    },
    "id": "mkGqTWAn_CxX",
    "outputId": "2714cabb-f6ac-4639-a1aa-15b86cbba1f9"
   },
   "outputs": [
    {
     "data": {
      "image/png": "[encoded data removed]",
      "text/plain": [
       "<Figure size 640x480 with 1 Axes>"
      ]
     },
     "metadata": {},
     "output_type": "display_data"
    }
   ],
   "source": [
    "plot_decision_bounds(X_train, y_train, model)"
   ]
  },
  {
   "cell_type": "code",
   "execution_count": 22,
   "metadata": {
    "id": "z1IUdWHO_Fl2"
   },
   "outputs": [],
   "source": [
    "model.fit(X_train, y_train, 50)"
   ]
  },
  {
   "cell_type": "code",
   "execution_count": 23,
   "metadata": {
    "colab": {
     "base_uri": "https://localhost:8080/"
    },
    "id": "raSBOmq2_Jec",
    "outputId": "91d09336-ac3c-42c3-814f-7d715c5b98a7"
   },
   "outputs": [
    {
     "name": "stdout",
     "output_type": "stream",
     "text": [
      "Final weights: tensor([-1.3908, -3.4584])\n",
      "Final bias: tensor([-6.7528])\n"
     ]
    }
   ],
   "source": [
    "w = model.fc.weight.data[0]\n",
    "b = model.fc.bias.data\n",
    "print(f'Final weights: {w}')\n",
    "print(f'Final bias: {b}')"
   ]
  },
  {
   "cell_type": "code",
   "execution_count": 24,
   "metadata": {
    "colab": {
     "base_uri": "https://localhost:8080/",
     "height": 406
    },
    "id": "0kpms5VL_MBh",
    "outputId": "504982ac-8970-4b13-b07d-6a4a87be5693"
   },
   "outputs": [
    {
     "data": {
      "image/png": "[encoded data removed]",
      "text/plain": [
       "<Figure size 640x480 with 1 Axes>"
      ]
     },
     "metadata": {},
     "output_type": "display_data"
    }
   ],
   "source": [
    "plot_decision_bounds(X_train, y_train, model)"
   ]
  },
  {
   "cell_type": "code",
   "execution_count": 25,
   "metadata": {},
   "outputs": [
    {
     "name": "stdout",
     "output_type": "stream",
     "text": [
      "MAE:  0.3333333333333333\n"
     ]
    }
   ],
   "source": [
    "y_pred = model.forward(X_train)\n",
    "print('MAE: ', mean_absolute_error(y_train.detach().numpy(), y_pred.detach().numpy()))"
   ]
  },
  {
   "cell_type": "markdown",
   "metadata": {
    "id": "CrjMmhho_TaA"
   },
   "source": [
    "# Четыре класса, линейно разделимая выборка"
   ]
  },
  {
   "cell_type": "markdown",
   "metadata": {},
   "source": [
    "## Decision bounds"
   ]
  },
  {
   "cell_type": "code",
   "execution_count": 63,
   "metadata": {},
   "outputs": [],
   "source": [
    "def plot_decision_bounds(X, Y, model):\n",
    "    X_np = X.detach().numpy()\n",
    "\n",
    "    x_min, x_max = X_np[:, 0].min() - 1, X_np[:, 0].max() + 1\n",
    "    y_min, y_max = X_np[:, 1].min() - 1, X_np[:, 1].max() + 1\n",
    "    xx, yy = np.meshgrid(np.arange(x_min, x_max, 0.01),\n",
    "                     np.arange(y_min, y_max, 0.01))\n",
    "\n",
    "    Z = model.forward(torch.tensor(np.c_[xx.ravel(), yy.ravel()], dtype=torch.float32)).detach().numpy()\n",
    "    \n",
    "    colors1 = ['pink', 'skyblue', 'white',]\n",
    "    Z1 = Z[:,0].reshape(xx.shape)\n",
    "    plt.contourf(xx, yy, Z1, colors = colors1, extend='both')\n",
    "    colors2 = ['lime', 'lightcoral', 'white']\n",
    "    Z2 = Z[:,1].reshape(xx.shape)\n",
    "    plt.contourf(xx, yy, Z2, colors = colors2, extend='both', alpha = 0.5)\n",
    "    \n",
    "    plt.axis('off')\n",
    "    c = {\n",
    "        'tensor([0., 0.])' : 0,\n",
    "        'tensor([0., 1.])' : 1,\n",
    "        'tensor([1., 0.])' : 2,\n",
    "        'tensor([1., 1.])' : 3\n",
    "        }\n",
    "    plt.scatter(X_np[:, 0], X_np[:, 1], c= [c[str(key)] for key in Y], s = 50)"
   ]
  },
  {
   "cell_type": "markdown",
   "metadata": {},
   "source": [
    "## Train model"
   ]
  },
  {
   "cell_type": "code",
   "execution_count": 64,
   "metadata": {
    "id": "bbyEhBYN_dCz"
   },
   "outputs": [
    {
     "data": {
      "text/plain": [
       "(tensor([[-3.5000, -4.9000],\n",
       "         [-0.7000,  3.3000],\n",
       "         [ 1.1000,  0.2000],\n",
       "         [ 3.6000, -4.1000],\n",
       "         [ 4.0000, -4.0000],\n",
       "         [ 0.1000, -3.6000],\n",
       "         [ 0.5000, -5.0000],\n",
       "         [ 2.6000,  3.4000]]),\n",
       " tensor([[1., 0.],\n",
       "         [0., 0.],\n",
       "         [0., 0.],\n",
       "         [0., 1.],\n",
       "         [0., 1.],\n",
       "         [1., 0.],\n",
       "         [1., 0.],\n",
       "         [0., 0.]]))"
      ]
     },
     "execution_count": 64,
     "metadata": {},
     "output_type": "execute_result"
    }
   ],
   "source": [
    "X_train = torch.tensor([\n",
    "            [-3.5, -4.9],\n",
    "            [-0.7, 3.3],\n",
    "            [1.1,0.2],\n",
    "            [3.6, -4.1],\n",
    "            [4, -4],\n",
    "            [0.1, -3.6],\n",
    "            [0.5, -5],\n",
    "            [2.6, 3.4]\n",
    "            ])\n",
    "\n",
    "y_train = torch.tensor([\n",
    "            [1,0],\n",
    "            [0,0],\n",
    "            [0,0],\n",
    "            [0,1],\n",
    "            [0,1],\n",
    "            [1,0],\n",
    "            [1,0],\n",
    "            [0,0]\n",
    "            ], dtype = torch.float32)\n",
    "\n",
    "X_train, y_train"
   ]
  },
  {
   "cell_type": "code",
   "execution_count": 65,
   "metadata": {},
   "outputs": [
    {
     "data": {
      "image/png": "[encoded data removed]",
      "text/plain": [
       "<Figure size 640x480 with 1 Axes>"
      ]
     },
     "metadata": {},
     "output_type": "display_data"
    }
   ],
   "source": [
    "colors = {\n",
    "        'tensor([0., 0.])' : 0,\n",
    "        'tensor([0., 1.])' : 1,\n",
    "        'tensor([1., 0.])' : 2,\n",
    "        'tensor([1., 1.])' : 3\n",
    "        }\n",
    "plt.scatter(x = X_train[:,0], y = X_train[:,1], c= [colors[str(key)] for key in y_train], s = 50)\n",
    "plt.xlim(-6,6)\n",
    "plt.ylim(-6,6)\n",
    "plt.grid()"
   ]
  },
  {
   "cell_type": "code",
   "execution_count": 76,
   "metadata": {},
   "outputs": [
    {
     "name": "stdout",
     "output_type": "stream",
     "text": [
      "Perceptron(\n",
      "  (fc): Linear(in_features=2, out_features=2, bias=True)\n",
      ")\n"
     ]
    }
   ],
   "source": [
    "model = Perceptron(X_train.shape[1],y_train.shape[1])\n",
    "print(model)"
   ]
  },
  {
   "cell_type": "code",
   "execution_count": 77,
   "metadata": {},
   "outputs": [
    {
     "name": "stdout",
     "output_type": "stream",
     "text": [
      "Initial weights: tensor([[ 0.4866, -0.5509],\n",
      "        [ 0.4302,  0.1001]])\n",
      "Initial bias: tensor([0.2325, 0.1074])\n"
     ]
    }
   ],
   "source": [
    "w = model.fc.weight.data\n",
    "b = model.fc.bias.data\n",
    "print(f'Initial weights: {w}')\n",
    "print(f'Initial bias: {b}')"
   ]
  },
  {
   "cell_type": "code",
   "execution_count": 78,
   "metadata": {},
   "outputs": [
    {
     "data": {
      "image/png": "[encoded data removed]",
      "text/plain": [
       "<Figure size 640x480 with 1 Axes>"
      ]
     },
     "metadata": {},
     "output_type": "display_data"
    }
   ],
   "source": [
    "plot_decision_bounds(X_train, y_train, model)"
   ]
  },
  {
   "cell_type": "code",
   "execution_count": 79,
   "metadata": {},
   "outputs": [],
   "source": [
    "model.fit(X_train, y_train, 50)"
   ]
  },
  {
   "cell_type": "code",
   "execution_count": 80,
   "metadata": {},
   "outputs": [
    {
     "name": "stdout",
     "output_type": "stream",
     "text": [
      "Final weights: tensor([[-6.5134, -4.4509],\n",
      "        [ 3.8302, -0.5999]])\n",
      "Final bias: tensor([-1.7675, -8.8926])\n"
     ]
    }
   ],
   "source": [
    "w = model.fc.weight.data\n",
    "b = model.fc.bias.data\n",
    "print(f'Final weights: {w}')\n",
    "print(f'Final bias: {b}')"
   ]
  },
  {
   "cell_type": "code",
   "execution_count": 81,
   "metadata": {},
   "outputs": [
    {
     "data": {
      "image/png": "[encoded data removed]",
      "text/plain": [
       "<Figure size 640x480 with 1 Axes>"
      ]
     },
     "metadata": {},
     "output_type": "display_data"
    }
   ],
   "source": [
    "plot_decision_bounds(X_train, y_train, model)"
   ]
  },
  {
   "cell_type": "code",
   "execution_count": 82,
   "metadata": {},
   "outputs": [
    {
     "name": "stdout",
     "output_type": "stream",
     "text": [
      "MAE:  0.0\n"
     ]
    }
   ],
   "source": [
    "y_pred = model.forward(X_train)\n",
    "print('MAE: ', mean_absolute_error(y_train.detach().numpy(), y_pred.detach().numpy()))"
   ]
  },
  {
   "cell_type": "markdown",
   "metadata": {},
   "source": [
    "## Test model"
   ]
  },
  {
   "cell_type": "code",
   "execution_count": 92,
   "metadata": {},
   "outputs": [
    {
     "data": {
      "text/plain": [
       "tensor([[-3.7828, -4.9361],\n",
       "        [ 1.5772, -4.0304],\n",
       "        [ 3.9485, -4.5863],\n",
       "        [-2.9212, -0.0542],\n",
       "        [ 2.9238,  4.3989],\n",
       "        [ 0.4318,  0.8774],\n",
       "        [ 4.1392, -0.4752],\n",
       "        [-4.1755, -0.6768],\n",
       "        [ 3.0565,  0.2356],\n",
       "        [ 0.4129,  4.5920]])"
      ]
     },
     "execution_count": 92,
     "metadata": {},
     "output_type": "execute_result"
    }
   ],
   "source": [
    "X_test = torch.FloatTensor(10, 2).uniform_(-5, 5)\n",
    "X_test"
   ]
  },
  {
   "cell_type": "code",
   "execution_count": 93,
   "metadata": {},
   "outputs": [],
   "source": [
    "X_test = torch.cat((X_test, torch.tensor([[2.5, -4.7]])))"
   ]
  },
  {
   "cell_type": "code",
   "execution_count": 94,
   "metadata": {},
   "outputs": [
    {
     "data": {
      "text/plain": [
       "tensor([[1., 0.],\n",
       "        [1., 0.],\n",
       "        [0., 1.],\n",
       "        [1., 0.],\n",
       "        [0., 0.],\n",
       "        [0., 0.],\n",
       "        [0., 1.],\n",
       "        [1., 0.],\n",
       "        [0., 1.],\n",
       "        [0., 0.],\n",
       "        [1., 1.]])"
      ]
     },
     "execution_count": 94,
     "metadata": {},
     "output_type": "execute_result"
    }
   ],
   "source": [
    "with torch.no_grad():\n",
    "    y_pred = model.forward(X_test)\n",
    "y_pred"
   ]
  },
  {
   "cell_type": "code",
   "execution_count": 95,
   "metadata": {},
   "outputs": [
    {
     "data": {
      "image/png": "[encoded data removed]",
      "text/plain": [
       "<Figure size 640x480 with 1 Axes>"
      ]
     },
     "metadata": {},
     "output_type": "display_data"
    }
   ],
   "source": [
    "plot_decision_bounds(torch.cat((X_train, X_test), 0), torch.cat((y_train, y_pred), 0), model)"
   ]
  }
 ],
 "metadata": {
  "accelerator": "GPU",
  "colab": {
   "collapsed_sections": [],
   "name": "lab1_perceptron.ipynb",
   "provenance": []
  },
  "kernelspec": {
   "display_name": "Python 3 (ipykernel)",
   "language": "python",
   "name": "python3"
  },
  "language_info": {
   "codemirror_mode": {
    "name": "ipython",
    "version": 3
   },
   "file_extension": ".py",
   "mimetype": "text/x-python",
   "name": "python",
   "nbconvert_exporter": "python",
   "pygments_lexer": "ipython3",
   "version": "3.8.12"
  }
 },
 "nbformat": 4,
 "nbformat_minor": 4
}
